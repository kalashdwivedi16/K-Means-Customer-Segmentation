{
 "cells": [
  {
   "cell_type": "code",
   "execution_count": 71,
   "id": "bcf9f6f8-ee2c-4c14-b09d-20767c5cde57",
   "metadata": {},
   "outputs": [],
   "source": [
    "import pandas as pd\n",
    "import numpy as np\n",
    "import matplotlib.pyplot as plt\n",
    "import seaborn as sns\n",
    "from sklearn.cluster import KMeans\n",
    "from sklearn.preprocessing import StandardScaler"
   ]
  },
  {
   "cell_type": "code",
   "execution_count": 73,
   "id": "3cd0e19b-0602-49f0-928c-a8d58fe18d75",
   "metadata": {},
   "outputs": [
    {
     "data": {
      "text/html": [
       "<div>\n",
       "<style scoped>\n",
       "    .dataframe tbody tr th:only-of-type {\n",
       "        vertical-align: middle;\n",
       "    }\n",
       "\n",
       "    .dataframe tbody tr th {\n",
       "        vertical-align: top;\n",
       "    }\n",
       "\n",
       "    .dataframe thead th {\n",
       "        text-align: right;\n",
       "    }\n",
       "</style>\n",
       "<table border=\"1\" class=\"dataframe\">\n",
       "  <thead>\n",
       "    <tr style=\"text-align: right;\">\n",
       "      <th></th>\n",
       "      <th>Customer ID</th>\n",
       "      <th>Annual Spending</th>\n",
       "      <th>Purchase Frequency</th>\n",
       "      <th>Avg Order Value</th>\n",
       "    </tr>\n",
       "  </thead>\n",
       "  <tbody>\n",
       "    <tr>\n",
       "      <th>0</th>\n",
       "      <td>1</td>\n",
       "      <td>1200</td>\n",
       "      <td>12</td>\n",
       "      <td>100</td>\n",
       "    </tr>\n",
       "    <tr>\n",
       "      <th>1</th>\n",
       "      <td>2</td>\n",
       "      <td>3000</td>\n",
       "      <td>30</td>\n",
       "      <td>100</td>\n",
       "    </tr>\n",
       "    <tr>\n",
       "      <th>2</th>\n",
       "      <td>3</td>\n",
       "      <td>450</td>\n",
       "      <td>5</td>\n",
       "      <td>90</td>\n",
       "    </tr>\n",
       "    <tr>\n",
       "      <th>3</th>\n",
       "      <td>4</td>\n",
       "      <td>800</td>\n",
       "      <td>8</td>\n",
       "      <td>100</td>\n",
       "    </tr>\n",
       "    <tr>\n",
       "      <th>4</th>\n",
       "      <td>5</td>\n",
       "      <td>2200</td>\n",
       "      <td>25</td>\n",
       "      <td>88</td>\n",
       "    </tr>\n",
       "  </tbody>\n",
       "</table>\n",
       "</div>"
      ],
      "text/plain": [
       "   Customer ID  Annual Spending  Purchase Frequency  Avg Order Value\n",
       "0            1             1200                  12              100\n",
       "1            2             3000                  30              100\n",
       "2            3              450                   5               90\n",
       "3            4              800                   8              100\n",
       "4            5             2200                  25               88"
      ]
     },
     "execution_count": 73,
     "metadata": {},
     "output_type": "execute_result"
    }
   ],
   "source": [
    "df = pd.read_csv('k menas data.csv')\n",
    "df.head()"
   ]
  },
  {
   "cell_type": "code",
   "execution_count": 75,
   "id": "1d19d1c7-effc-48f9-a10b-8698e8154842",
   "metadata": {},
   "outputs": [
    {
     "name": "stdout",
     "output_type": "stream",
     "text": [
      "Dataset shape: (5, 4)\n",
      "\n",
      "Data types:\n",
      " Customer ID           int64\n",
      "Annual Spending       int64\n",
      "Purchase Frequency    int64\n",
      "Avg Order Value       int64\n",
      "dtype: object\n",
      "\n",
      "Summary statistics:\n",
      "        Customer ID  Annual Spending  Purchase Frequency  Avg Order Value\n",
      "count     5.000000         5.000000            5.000000           5.0000\n",
      "mean      3.000000      1530.000000           16.000000          95.6000\n",
      "std       1.581139      1050.951949           10.931606           6.0663\n",
      "min       1.000000       450.000000            5.000000          88.0000\n",
      "25%       2.000000       800.000000            8.000000          90.0000\n",
      "50%       3.000000      1200.000000           12.000000         100.0000\n",
      "75%       4.000000      2200.000000           25.000000         100.0000\n",
      "max       5.000000      3000.000000           30.000000         100.0000\n",
      "\n",
      "Null values:\n",
      " Customer ID           0\n",
      "Annual Spending       0\n",
      "Purchase Frequency    0\n",
      "Avg Order Value       0\n",
      "dtype: int64\n"
     ]
    }
   ],
   "source": [
    "# Step 1: Inspect the dataset\n",
    "print(\"Dataset shape:\", df.shape)\n",
    "print(\"\\nData types:\\n\", df.dtypes)\n",
    "print(\"\\nSummary statistics:\\n\", df.describe())\n",
    "print(\"\\nNull values:\\n\", df.isnull().sum())\n"
   ]
  },
  {
   "cell_type": "code",
   "execution_count": 77,
   "id": "b950aae3-8c52-4e8c-8348-4fe95ff88dd5",
   "metadata": {},
   "outputs": [],
   "source": [
    "# Drop irrelevant columns (CustomerID is an identifier, not useful for clustering)\n",
    "df1 = df.drop(\"Customer ID\", axis=1)"
   ]
  },
  {
   "cell_type": "code",
   "execution_count": 79,
   "id": "2ea1645b-38be-4648-bb55-0c9c0f79a9bc",
   "metadata": {},
   "outputs": [
    {
     "name": "stdout",
     "output_type": "stream",
     "text": [
      "\n",
      "Scaled data:\n",
      "    Annual Spending  Purchase Frequency  Avg Order Value\n",
      "0        -0.351064           -0.409101         0.810931\n",
      "1         1.563830            1.431855         0.810931\n",
      "2        -1.148936           -1.125029        -1.032094\n",
      "3        -0.776596           -0.818203         0.810931\n",
      "4         0.712766            0.920478        -1.400699\n"
     ]
    }
   ],
   "source": [
    "# Step 3: Feature Scaling (important for clustering)\n",
    "scaler = StandardScaler()\n",
    "df2 = scaler.fit_transform(df1)\n",
    "\n",
    "# Convert back to DataFrame for easier viewing\n",
    "df2 = pd.DataFrame(df2, columns=df1.columns)\n",
    "\n",
    "# Step 4: Show the scaled data\n",
    "print(\"\\nScaled data:\\n\", df2.head())"
   ]
  },
  {
   "cell_type": "markdown",
   "id": "cbda20be-f23d-4ab7-af9e-21b3f1e89823",
   "metadata": {},
   "source": [
    "## Explanation:\n",
    "* CustomerID is dropped because it's just an identifier.\n",
    "\n",
    "* StandardScaler makes all features have mean = 0 and std = 1 (K-Means is distance-based, so this is crucial).\n",
    "\n",
    "  \n",
    "* We check for null values and basic stats to ensure data integrity.Explanation:"
   ]
  },
  {
   "cell_type": "code",
   "execution_count": 82,
   "id": "534d1fb9-630b-4207-ae3a-bc884ce9445b",
   "metadata": {},
   "outputs": [],
   "source": [
    "import warnings\n",
    "warnings.filterwarnings(\"ignore\")"
   ]
  },
  {
   "cell_type": "code",
   "execution_count": 84,
   "id": "b0af99e6-63a4-44e8-a022-18c1a7a172fc",
   "metadata": {},
   "outputs": [],
   "source": [
    "# Initialize WCSS list\n",
    "wcss = []\n",
    "\n",
    "# Run KMeans for 1 to 6 clusters\n",
    "for i in range(1, 6):  # Max clusters = number of data points\n",
    "    kmeans = KMeans(n_clusters=i, init='k-means++', random_state=42)\n",
    "    kmeans.fit(scaled_df)\n",
    "    wcss.append(kmeans.inertia_)\n"
   ]
  },
  {
   "cell_type": "code",
   "execution_count": 86,
   "id": "8846a831-97dc-48be-860f-e4bc31e81380",
   "metadata": {},
   "outputs": [
    {
     "data": {
      "image/png": "[encoded data removed]",
      "text/plain": [
       "<Figure size 800x500 with 1 Axes>"
      ]
     },
     "metadata": {},
     "output_type": "display_data"
    }
   ],
   "source": [
    "# Plot the Elbow Curve\n",
    "plt.figure(figsize=(8, 5))\n",
    "plt.plot(range(1, 6), wcss, marker='o')\n",
    "plt.title('Elbow Method for Optimal k (Max = 5)')\n",
    "plt.xlabel('Number of Clusters (k)')\n",
    "plt.ylabel('WCSS')\n",
    "plt.grid(True)\n",
    "plt.show()"
   ]
  },
  {
   "cell_type": "code",
   "execution_count": 110,
   "id": "9e272ed9-e8f2-43c1-9fce-e95bcfc9c31b",
   "metadata": {},
   "outputs": [
    {
     "data": {
      "text/html": [
       "<div>\n",
       "<style scoped>\n",
       "    .dataframe tbody tr th:only-of-type {\n",
       "        vertical-align: middle;\n",
       "    }\n",
       "\n",
       "    .dataframe tbody tr th {\n",
       "        vertical-align: top;\n",
       "    }\n",
       "\n",
       "    .dataframe thead th {\n",
       "        text-align: right;\n",
       "    }\n",
       "</style>\n",
       "<table border=\"1\" class=\"dataframe\">\n",
       "  <thead>\n",
       "    <tr style=\"text-align: right;\">\n",
       "      <th></th>\n",
       "      <th>Customer ID</th>\n",
       "      <th>Annual Spending</th>\n",
       "      <th>Purchase Frequency</th>\n",
       "      <th>Avg Order Value</th>\n",
       "      <th>Cluster</th>\n",
       "      <th>Segment</th>\n",
       "    </tr>\n",
       "  </thead>\n",
       "  <tbody>\n",
       "    <tr>\n",
       "      <th>0</th>\n",
       "      <td>1</td>\n",
       "      <td>1200</td>\n",
       "      <td>12</td>\n",
       "      <td>100</td>\n",
       "      <td>1</td>\n",
       "      <td>Low Value Customer</td>\n",
       "    </tr>\n",
       "    <tr>\n",
       "      <th>1</th>\n",
       "      <td>2</td>\n",
       "      <td>3000</td>\n",
       "      <td>30</td>\n",
       "      <td>100</td>\n",
       "      <td>0</td>\n",
       "      <td>High Value Customer</td>\n",
       "    </tr>\n",
       "    <tr>\n",
       "      <th>2</th>\n",
       "      <td>3</td>\n",
       "      <td>450</td>\n",
       "      <td>5</td>\n",
       "      <td>90</td>\n",
       "      <td>1</td>\n",
       "      <td>Low Value Customer</td>\n",
       "    </tr>\n",
       "    <tr>\n",
       "      <th>3</th>\n",
       "      <td>4</td>\n",
       "      <td>800</td>\n",
       "      <td>8</td>\n",
       "      <td>100</td>\n",
       "      <td>1</td>\n",
       "      <td>Low Value Customer</td>\n",
       "    </tr>\n",
       "    <tr>\n",
       "      <th>4</th>\n",
       "      <td>5</td>\n",
       "      <td>2200</td>\n",
       "      <td>25</td>\n",
       "      <td>88</td>\n",
       "      <td>0</td>\n",
       "      <td>High Value Customer</td>\n",
       "    </tr>\n",
       "  </tbody>\n",
       "</table>\n",
       "</div>"
      ],
      "text/plain": [
       "   Customer ID  Annual Spending  Purchase Frequency  Avg Order Value  Cluster  \\\n",
       "0            1             1200                  12              100        1   \n",
       "1            2             3000                  30              100        0   \n",
       "2            3              450                   5               90        1   \n",
       "3            4              800                   8              100        1   \n",
       "4            5             2200                  25               88        0   \n",
       "\n",
       "               Segment  \n",
       "0   Low Value Customer  \n",
       "1  High Value Customer  \n",
       "2   Low Value Customer  \n",
       "3   Low Value Customer  \n",
       "4  High Value Customer  "
      ]
     },
     "execution_count": 110,
     "metadata": {},
     "output_type": "execute_result"
    }
   ],
   "source": [
    "# Apply K-Means with k=2\n",
    "kmeans = KMeans(n_clusters=2, init='k-means++', random_state=42)\n",
    "cluster_labels = kmeans.fit_predict(scaled_df)\n",
    "\n",
    "# Add cluster labels to the original DataFrame\n",
    "df['Cluster'] = cluster_labels\n",
    "df['Segment'] = df['Cluster'].map({\n",
    "    0: 'High Value Customer',\n",
    "    1: 'Low Value Customer'\n",
    "})\n",
    "#  View the updated DataFrame\n",
    "df"
   ]
  },
  {
   "cell_type": "code",
   "execution_count": 112,
   "id": "8d704760-b515-4d34-8b86-d184fa574a72",
   "metadata": {},
   "outputs": [
    {
     "data": {
      "image/png": "[encoded data removed]",
      "text/plain": [
       "<Figure size 800x600 with 1 Axes>"
      ]
     },
     "metadata": {},
     "output_type": "display_data"
    }
   ],
   "source": [
    "# Visualize clusters using two features\n",
    "plt.figure(figsize=(8, 6))\n",
    "\n",
    "# Plot each cluster separately\n",
    "sns.scatterplot(\n",
    "    x='Annual Spending',\n",
    "    y='Purchase Frequency',\n",
    "    hue='Cluster',\n",
    "    palette='Set1',\n",
    "    data=df,\n",
    "    s=100\n",
    ")\n",
    "\n",
    "# Plot centroids (scale them back to original values for correct positioning)\n",
    "centroids = kmeans.cluster_centers_\n",
    "# Inverse transform to get original scale\n",
    "centroids_original = scaler.inverse_transform(centroids)\n",
    "\n",
    "plt.scatter(\n",
    "    centroids_original[:, 0],  # AnnualSpending\n",
    "    centroids_original[:, 1],  # PurchaseFrequency\n",
    "    s=200,\n",
    "    c='black',\n",
    "    marker='X',\n",
    "    label='Centroids'\n",
    ")\n",
    "\n",
    "plt.title('Customer Segments (k=2)')\n",
    "plt.xlabel('Annual Spending')\n",
    "plt.ylabel('Purchase Frequency')\n",
    "plt.legend()\n",
    "plt.grid(True)\n",
    "plt.show()"
   ]
  },
  {
   "cell_type": "code",
   "execution_count": 114,
   "id": "24bdd48f-39ea-40ac-8d6b-7825f6146ff2",
   "metadata": {},
   "outputs": [
    {
     "name": "stdout",
     "output_type": "stream",
     "text": [
      "         Customer ID  Annual Spending  Purchase Frequency  Avg Order Value\n",
      "Cluster                                                                   \n",
      "0           3.500000      2600.000000           27.500000        94.000000\n",
      "1           2.666667       816.666667            8.333333        96.666667\n"
     ]
    }
   ],
   "source": [
    "# View the average profile of each cluster\n",
    "cluster_summary = df.groupby('Cluster').mean(numeric_only=True)\n",
    "print(cluster_summary)"
   ]
  },
  {
   "cell_type": "markdown",
   "id": "82162719-2b9d-4140-84ee-96e9738f0b1d",
   "metadata": {},
   "source": [
    "## Interpretation:\n",
    "#### Cluster 0 – High Value Customers\n",
    "* High Annual Spending (2600)\n",
    "* Frequent Purchases (27/year)\n",
    "* Solid Avg Order Value (95)\n",
    "* These are your loyal, high-spending customers.\n",
    "* Target them with loyalty programs, upselling, exclusive offers."
   ]
  },
  {
   "cell_type": "markdown",
   "id": "b7385d7d-880d-4679-a70b-82cde3a3ba10",
   "metadata": {},
   "source": [
    "## Cluster 1 – Low Value Customers\n",
    "* Lower Annual Spending (816)\n",
    "* Fewer Purchases (8/year)\n",
    "* Avg Order Value similar"
   ]
  },
  {
   "cell_type": "markdown",
   "id": "cd4afb0a-931f-4965-922c-6e88ef2d3c41",
   "metadata": {},
   "source": [
    "## Recomendation \n",
    "* These are your infrequent or casual buyers.\n",
    "* Try to re-engage them with reminders, promotions, or bundling"
   ]
  },
  {
   "cell_type": "code",
   "execution_count": null,
   "id": "df6db794-1422-448c-a5bf-14d8c97cfc5e",
   "metadata": {},
   "outputs": [],
   "source": []
  }
 ],
 "metadata": {
  "kernelspec": {
   "display_name": "Python [conda env:base] *",
   "language": "python",
   "name": "conda-base-py"
  },
  "language_info": {
   "codemirror_mode": {
    "name": "ipython",
    "version": 3
   },
   "file_extension": ".py",
   "mimetype": "text/x-python",
   "name": "python",
   "nbconvert_exporter": "python",
   "pygments_lexer": "ipython3",
   "version": "3.12.7"
  }
 },
 "nbformat": 4,
 "nbformat_minor": 5
}
